{
 "metadata": {
  "language_info": {
   "codemirror_mode": {
    "name": "ipython",
    "version": 3
   },
   "file_extension": ".py",
   "mimetype": "text/x-python",
   "name": "python",
   "nbconvert_exporter": "python",
   "pygments_lexer": "ipython3",
   "version": "3.9.0"
  },
  "orig_nbformat": 2,
  "kernelspec": {
   "name": "python390jvsc74a57bd0aee8b7b246df8f9039afb4144a1f6fd8d2ca17a180786b69acc140d282b71a49",
   "display_name": "Python 3.9.0 64-bit"
  },
  "metadata": {
   "interpreter": {
    "hash": "aee8b7b246df8f9039afb4144a1f6fd8d2ca17a180786b69acc140d282b71a49"
   }
  }
 },
 "nbformat": 4,
 "nbformat_minor": 2,
 "cells": [
  {
   "cell_type": "code",
   "execution_count": 2,
   "metadata": {},
   "outputs": [],
   "source": [
    "import numpy as np\n",
    "import pandas as pd"
   ]
  },
  {
   "cell_type": "code",
   "execution_count": 3,
   "metadata": {},
   "outputs": [],
   "source": [
    "text = {\"Sentence #\": [],\n",
    "        \"Text\": [],\n",
    "        \"POS\":[],\n",
    "        \"Tag\":[]}\n",
    "text_df = pd.DataFrame.from_dict(text)"
   ]
  },
  {
   "cell_type": "code",
   "execution_count": 3,
   "metadata": {},
   "outputs": [],
   "source": [
    "file_length = 0\n",
    "for i in range(5000):\n",
    "    #print(i)\n",
    "    discrete_file = pd.read_csv(\"Annotated Files - Augmented/\"+str(i)+\"_augmented.csv\")\n",
    "    discrete_file[\"Sentence #\"] = \"Sentence: \"+str(i+1)\n",
    "    text_df = pd.concat([text_df, discrete_file])\n",
    "text_df.reset_index(drop=True, inplace=True)\n",
    "text_df.to_csv(\"combined-1.csv\",index=False)"
   ]
  },
  {
   "cell_type": "code",
   "execution_count": 4,
   "metadata": {},
   "outputs": [],
   "source": [
    "text = {\"Sentence #\": [],\n",
    "        \"Text\": [],\n",
    "        \"POS\":[],\n",
    "        \"Tag\":[]}\n",
    "text_df = pd.DataFrame.from_dict(text)"
   ]
  },
  {
   "cell_type": "code",
   "execution_count": 5,
   "metadata": {},
   "outputs": [],
   "source": [
    "file_length = 0\n",
    "for i in range(5000,10000):\n",
    "    #print(i)\n",
    "    discrete_file = pd.read_csv(\"Annotated Files - Augmented/\"+str(i)+\"_augmented.csv\")\n",
    "    discrete_file[\"Sentence #\"] = \"Sentence: \"+str(i+1)\n",
    "    text_df = pd.concat([text_df, discrete_file])\n",
    "text_df.reset_index(drop=True, inplace=True)\n",
    "text_df.to_csv(\"combined-2.csv\",index=False)"
   ]
  },
  {
   "cell_type": "code",
   "execution_count": 6,
   "metadata": {},
   "outputs": [],
   "source": [
    "text = {\"Sentence #\": [],\n",
    "        \"Text\": [],\n",
    "        \"POS\":[],\n",
    "        \"Tag\":[]}\n",
    "text_df = pd.DataFrame.from_dict(text)"
   ]
  },
  {
   "cell_type": "code",
   "execution_count": 7,
   "metadata": {},
   "outputs": [],
   "source": [
    "file_length = 0\n",
    "for i in range(10000,15000):\n",
    "    #print(i)\n",
    "    discrete_file = pd.read_csv(\"Annotated Files - Augmented/\"+str(i)+\"_augmented.csv\")\n",
    "    discrete_file[\"Sentence #\"] = \"Sentence: \"+str(i+1)\n",
    "    text_df = pd.concat([text_df, discrete_file])\n",
    "text_df.reset_index(drop=True, inplace=True)\n",
    "text_df.to_csv(\"combined-3.csv\",index=False)"
   ]
  },
  {
   "cell_type": "code",
   "execution_count": 8,
   "metadata": {},
   "outputs": [],
   "source": [
    "text = {\"Sentence #\": [],\n",
    "        \"Text\": [],\n",
    "        \"POS\":[],\n",
    "        \"Tag\":[]}\n",
    "text_df = pd.DataFrame.from_dict(text)"
   ]
  },
  {
   "cell_type": "code",
   "execution_count": 9,
   "metadata": {},
   "outputs": [],
   "source": [
    "file_length = 0\n",
    "for i in range(15000,20000):\n",
    "    #print(i)\n",
    "    discrete_file = pd.read_csv(\"Annotated Files - Augmented/\"+str(i)+\"_augmented.csv\")\n",
    "    discrete_file[\"Sentence #\"] = \"Sentence: \"+str(i+1)\n",
    "    text_df = pd.concat([text_df, discrete_file])\n",
    "text_df.reset_index(drop=True, inplace=True)\n",
    "text_df.to_csv(\"combined-4.csv\",index=False)"
   ]
  },
  {
   "cell_type": "code",
   "execution_count": 10,
   "metadata": {},
   "outputs": [],
   "source": [
    "text = {\"Sentence #\": [],\n",
    "        \"Text\": [],\n",
    "        \"POS\":[],\n",
    "        \"Tag\":[]}\n",
    "text_df = pd.DataFrame.from_dict(text)"
   ]
  },
  {
   "cell_type": "code",
   "execution_count": 11,
   "metadata": {},
   "outputs": [],
   "source": [
    "file_length = 0\n",
    "for i in range(20000,25000):\n",
    "    #print(i)\n",
    "    discrete_file = pd.read_csv(\"Annotated Files - Augmented/\"+str(i)+\"_augmented.csv\")\n",
    "    discrete_file[\"Sentence #\"] = \"Sentence: \"+str(i+1)\n",
    "    text_df = pd.concat([text_df, discrete_file])\n",
    "text_df.reset_index(drop=True, inplace=True)\n",
    "text_df.to_csv(\"combined-5.csv\",index=False)"
   ]
  },
  {
   "cell_type": "code",
   "execution_count": 12,
   "metadata": {},
   "outputs": [],
   "source": [
    "text = {\"Sentence #\": [],\n",
    "        \"Text\": [],\n",
    "        \"POS\":[],\n",
    "        \"Tag\":[]}\n",
    "text_df = pd.DataFrame.from_dict(text)"
   ]
  },
  {
   "cell_type": "code",
   "execution_count": 13,
   "metadata": {},
   "outputs": [],
   "source": [
    "file_length = 0\n",
    "for i in range(25000,30000):\n",
    "    #print(i)\n",
    "    discrete_file = pd.read_csv(\"Annotated Files - Augmented/\"+str(i)+\"_augmented.csv\")\n",
    "    discrete_file[\"Sentence #\"] = \"Sentence: \"+str(i+1)\n",
    "    text_df = pd.concat([text_df, discrete_file])\n",
    "text_df.reset_index(drop=True, inplace=True)\n",
    "text_df.to_csv(\"combined-6.csv\",index=False)"
   ]
  },
  {
   "cell_type": "code",
   "execution_count": 14,
   "metadata": {},
   "outputs": [],
   "source": [
    "text = {\"Sentence #\": [],\n",
    "        \"Text\": [],\n",
    "        \"POS\":[],\n",
    "        \"Tag\":[]}\n",
    "text_df = pd.DataFrame.from_dict(text)"
   ]
  },
  {
   "cell_type": "code",
   "execution_count": 15,
   "metadata": {},
   "outputs": [],
   "source": [
    "file_length = 0\n",
    "for i in range(30000,35000):\n",
    "    #print(i)\n",
    "    discrete_file = pd.read_csv(\"Annotated Files - Augmented/\"+str(i)+\"_augmented.csv\")\n",
    "    discrete_file[\"Sentence #\"] = \"Sentence: \"+str(i+1)\n",
    "    text_df = pd.concat([text_df, discrete_file])\n",
    "text_df.reset_index(drop=True, inplace=True)\n",
    "text_df.to_csv(\"combined-7.csv\",index=False)"
   ]
  },
  {
   "cell_type": "code",
   "execution_count": 16,
   "metadata": {},
   "outputs": [],
   "source": [
    "text = {\"Sentence #\": [],\n",
    "        \"Text\": [],\n",
    "        \"POS\":[],\n",
    "        \"Tag\":[]}\n",
    "text_df = pd.DataFrame.from_dict(text)"
   ]
  },
  {
   "cell_type": "code",
   "execution_count": 17,
   "metadata": {},
   "outputs": [],
   "source": [
    "file_length = 0\n",
    "for i in range(35000,40000):\n",
    "    #print(i)\n",
    "    discrete_file = pd.read_csv(\"Annotated Files - Augmented/\"+str(i)+\"_augmented.csv\")\n",
    "    discrete_file[\"Sentence #\"] = \"Sentence: \"+str(i+1)\n",
    "    text_df = pd.concat([text_df, discrete_file])\n",
    "text_df.reset_index(drop=True, inplace=True)\n",
    "text_df.to_csv(\"combined-8.csv\",index=False)"
   ]
  },
  {
   "cell_type": "code",
   "execution_count": 4,
   "metadata": {},
   "outputs": [],
   "source": [
    "text = {\"Sentence #\": [],\n",
    "        \"Text\": [],\n",
    "        \"POS\":[],\n",
    "        \"Tag\":[]}\n",
    "text_df = pd.DataFrame.from_dict(text)"
   ]
  },
  {
   "cell_type": "code",
   "execution_count": 5,
   "metadata": {},
   "outputs": [],
   "source": [
    "file_length = 0\n",
    "for i in range(40000,45000):\n",
    "    #print(i)\n",
    "    discrete_file = pd.read_csv(\"Annotated Files - Augmented/\"+str(i)+\"_augmented.csv\")\n",
    "    discrete_file[\"Sentence #\"] = \"Sentence: \"+str(i+1)\n",
    "    text_df = pd.concat([text_df, discrete_file])\n",
    "text_df.reset_index(drop=True, inplace=True)\n",
    "text_df.to_csv(\"combined-9.csv\",index=False)"
   ]
  },
  {
   "cell_type": "code",
   "execution_count": 6,
   "metadata": {},
   "outputs": [],
   "source": [
    "text = {\"Sentence #\": [],\n",
    "        \"Text\": [],\n",
    "        \"POS\":[],\n",
    "        \"Tag\":[]}\n",
    "text_df = pd.DataFrame.from_dict(text)"
   ]
  },
  {
   "cell_type": "code",
   "execution_count": null,
   "metadata": {},
   "outputs": [],
   "source": [
    "file_length = 0\n",
    "for i in range(45000,50000):\n",
    "    #print(i)\n",
    "    discrete_file = pd.read_csv(\"Annotated Files - Augmented/\"+str(i)+\"_augmented.csv\")\n",
    "    discrete_file[\"Sentence #\"] = \"Sentence: \"+str(i+1)\n",
    "    text_df = pd.concat([text_df, discrete_file])\n",
    "text_df.reset_index(drop=True, inplace=True)\n",
    "text_df.to_csv(\"combined-10.csv\",index=False)"
   ]
  },
  {
   "cell_type": "code",
   "execution_count": null,
   "metadata": {},
   "outputs": [],
   "source": [
    "text = {\"Sentence #\": [],\n",
    "        \"Text\": [],\n",
    "        \"POS\":[],\n",
    "        \"Tag\":[]}\n",
    "text_df = pd.DataFrame.from_dict(text)"
   ]
  },
  {
   "cell_type": "code",
   "execution_count": 11,
   "metadata": {},
   "outputs": [],
   "source": [
    "df_final = {\"Sentence #\": [],\n",
    "        \"Text\": [],\n",
    "        \"POS\":[],\n",
    "        \"Tag\":[]}\n",
    "df_final = pd.DataFrame.from_dict(df_final)"
   ]
  },
  {
   "cell_type": "code",
   "execution_count": 12,
   "metadata": {},
   "outputs": [
    {
     "output_type": "stream",
     "name": "stdout",
     "text": [
      "1\n",
      "2\n",
      "3\n",
      "4\n",
      "5\n",
      "6\n",
      "7\n",
      "8\n",
      "9\n",
      "10\n"
     ]
    }
   ],
   "source": [
    "for i in range(1,11):\n",
    "    print(i)\n",
    "    discrete_file = pd.read_csv(\"combined-\"+str(i)+\".csv\")\n",
    "    df_final = pd.concat([df_final, discrete_file])\n",
    "df_final.reset_index(drop=True, inplace=True)\n",
    "df_final.to_csv(\"df_final.csv\",index=False)"
   ]
  },
  {
   "cell_type": "code",
   "execution_count": 16,
   "metadata": {},
   "outputs": [
    {
     "output_type": "execute_result",
     "data": {
      "text/plain": [
       "50000"
      ]
     },
     "metadata": {},
     "execution_count": 16
    }
   ],
   "source": [
    "len(df_final[\"Sentence #\"].unique())"
   ]
  }
 ]
}